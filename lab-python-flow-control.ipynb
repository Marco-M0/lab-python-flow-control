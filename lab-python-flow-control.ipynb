{
 "cells": [
  {
   "cell_type": "markdown",
   "id": "d3bfc191-8885-42ee-b0a0-bbab867c6f9f",
   "metadata": {
    "tags": []
   },
   "source": [
    "# Lab | Flow Control"
   ]
  },
  {
   "cell_type": "markdown",
   "id": "3851fcd1-cf98-4653-9c89-e003b7ec9400",
   "metadata": {},
   "source": [
    "## Exercise: Managing Customer Orders Optimized\n",
    "\n",
    "In the last lab, you were starting an online store that sells various products. To ensure smooth operations, you developed a program that manages customer orders and inventory.\n",
    "\n",
    "You did so without using flow control. Let's go a step further and improve this code.\n",
    "\n",
    "Follow the steps below to complete the exercise:\n",
    "\n",
    "1. Look at your code from the lab data structures, and improve repeated code with loops.\n",
    "\n",
    "2. Instead of asking the user to input the name of three products that a customer wants to order, do the following:\n",
    "    \n",
    "    a. Prompt the user to enter the name of a product that a customer wants to order.\n",
    "    \n",
    "    b. Add the product name to the \"customer_orders\" set.\n",
    "    \n",
    "    c. Ask the user if they want to add another product (yes/no).\n",
    "    \n",
    "    d. Continue the loop until the user does not want to add another product.\n",
    "\n",
    "3. Instead of updating the inventory by subtracting 1 from the quantity of each product, only do it for  the products that were ordered (those in \"customer_orders\")."
   ]
  },
  {
   "cell_type": "code",
   "execution_count": 51,
   "id": "c19cf7f3-7884-4d42-954e-94a58cc30e5a",
   "metadata": {},
   "outputs": [
    {
     "name": "stdout",
     "output_type": "stream",
     "text": [
      "Shop order control\n"
     ]
    },
    {
     "name": "stdin",
     "output_type": "stream",
     "text": [
      "How many t-shirts are in the inventory? 3\n",
      "How many mugs are in the inventory? 4\n",
      "How many hats are in the inventory? 5\n",
      "How many books are in the inventory? 6\n",
      "How many keychains are in the inventory? 7\n"
     ]
    },
    {
     "name": "stdout",
     "output_type": "stream",
     "text": [
      "\n",
      "Current inventory:\n",
      "t-shirt 3\n",
      "mug 4\n",
      "hat 5\n",
      "book 6\n",
      "keychain 7\n"
     ]
    }
   ],
   "source": [
    "products = [\"t-shirt\", \"mug\", \"hat\", \"book\", \"keychain\"]\n",
    "inventory = {}\n",
    "\n",
    "print(\"Shop order control\")\n",
    "inventory[\"t-shirt\"] = int(input(\"How many t-shirts are in the inventory?\"))\n",
    "inventory[\"mug\"] = int(input(\"How many mugs are in the inventory?\"))\n",
    "inventory[\"hat\"] = int(input(\"How many hats are in the inventory?\"))\n",
    "inventory[\"book\"] = int(input(\"How many books are in the inventory?\"))\n",
    "inventory[\"keychain\"] = int(input(\"How many keychains are in the inventory?\"))\n",
    "\n",
    "print(\"\")\n",
    "print(\"Current inventory:\")\n",
    "for keys, values in inventory.items():\n",
    "    print(keys,values)"
   ]
  },
  {
   "cell_type": "code",
   "execution_count": 53,
   "id": "67806543-5d11-4014-9e0d-52700d2e712b",
   "metadata": {},
   "outputs": [
    {
     "name": "stdin",
     "output_type": "stream",
     "text": [
      "Select one of the following items: t-shirt, mug, hat, book, keychain. book\n",
      "Would you like to add another product? (yes/no) yes\n",
      "Select one of the following items: t-shirt, mug, hat, book, keychain. mug\n",
      "Would you like to add another product? (yes/no) yes\n",
      "Select one of the following items: t-shirt, mug, hat, book, keychain. keychain\n",
      "Would you like to add another product? (yes/no) t-shirt\n",
      "Select one of the following items: t-shirt, mug, hat, book, keychain. t-shirt\n",
      "Would you like to add another product? (yes/no) no\n"
     ]
    },
    {
     "name": "stdout",
     "output_type": "stream",
     "text": [
      "{'mug', 'book', 'keychain', 't-shirt'} <class 'set'>\n"
     ]
    }
   ],
   "source": [
    "# Edit to ask if the customer wants more products\n",
    "#i = 0\n",
    "#while i < 3:\n",
    "#    order_input = input(\"Select one of the following items: t-shirt, mug, hat, book, keychain.\")\n",
    "#    customer_orders.add(order_input)\n",
    "#    i = i + 1\n",
    "customer_orders = {0}\n",
    "i = \"yes\"\n",
    "while i == \"yes\":\n",
    "    order_input = input(\"Select one of the following items: t-shirt, mug, hat, book, keychain.\")\n",
    "    customer_orders.add(order_input)\n",
    "    yes_no = input(\"Would you like to add another product? (yes/no)\")\n",
    "    if yes_no.lower() == \"yes\":\n",
    "        i = \"yes\"\n",
    "    elif yes_no.lower() == \"no\":\n",
    "        i = \"no\"\n",
    "\n",
    "customer_orders.remove(0)\n",
    "print(customer_orders, type(customer_orders))"
   ]
  },
  {
   "cell_type": "code",
   "execution_count": 55,
   "id": "9635c290-e4fe-4d05-810b-4a33812fa207",
   "metadata": {},
   "outputs": [
    {
     "name": "stdout",
     "output_type": "stream",
     "text": [
      "\n",
      "Order Statistics:\n",
      "Total Products Ordered: 4\n",
      "Percentage of Products Ordered: 16.0 %\n"
     ]
    }
   ],
   "source": [
    "# Checking the order\n",
    "\n",
    "print(\"\")\n",
    "print(\"Order Statistics:\")\n",
    "total_products_ordered = len(customer_orders)\n",
    "print(\"Total Products Ordered:\", total_products_ordered)\n",
    "total_inventory = sum(inventory.values())\n",
    "percentage_ordered = total_products_ordered / total_inventory * 100\n",
    "print(\"Percentage of Products Ordered:\", percentage_ordered, \"%\")\n",
    "order_status = (total_products_ordered, percentage_ordered)"
   ]
  },
  {
   "cell_type": "code",
   "execution_count": 66,
   "id": "1e3cdc01-e9bf-483b-9672-0857674b02b5",
   "metadata": {},
   "outputs": [
    {
     "name": "stdout",
     "output_type": "stream",
     "text": [
      "\n",
      "Updated inventory:\n",
      "t-shirt 3\n",
      "mug 3\n",
      "hat 5\n",
      "book 5\n",
      "keychain 6\n"
     ]
    }
   ],
   "source": [
    "# Edit to do a loop depending on how many items are in the customer order list\n",
    "\n",
    "customer_list = list(customer_orders)\n",
    "\n",
    "for key, values in inventory.items():\n",
    "    if key == customer_list:\n",
    "        print(key,\" is in the order\")\n",
    "        i = inventory.get(key) - 1\n",
    "        inventory[key] = i\n",
    "\n",
    "print(\"\")\n",
    "print(\"Updated inventory:\")\n",
    "for keys, values in inventory.items():\n",
    "    print(keys,values)"
   ]
  }
 ],
 "metadata": {
  "kernelspec": {
   "display_name": "Python 3 (ipykernel)",
   "language": "python",
   "name": "python3"
  },
  "language_info": {
   "codemirror_mode": {
    "name": "ipython",
    "version": 3
   },
   "file_extension": ".py",
   "mimetype": "text/x-python",
   "name": "python",
   "nbconvert_exporter": "python",
   "pygments_lexer": "ipython3",
   "version": "3.12.4"
  }
 },
 "nbformat": 4,
 "nbformat_minor": 5
}
